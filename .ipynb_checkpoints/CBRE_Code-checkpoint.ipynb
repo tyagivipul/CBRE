{
 "cells": [
  {
   "cell_type": "code",
   "execution_count": 72,
   "metadata": {
    "ExecuteTime": {
     "end_time": "2021-03-12T06:20:42.712570Z",
     "start_time": "2021-03-12T06:20:42.688636Z"
    }
   },
   "outputs": [],
   "source": [
    "import numpy as np\n",
    "import pandas as pd\n",
    "import matplotlib.pyplot as plt\n",
    "plt.rc(\"font\", size=14)\n",
    "import seaborn as sns\n",
    "sns.set(style=\"white\")\n",
    "sns.set(style=\"whitegrid\", color_codes=True)"
   ]
  },
  {
   "cell_type": "code",
   "execution_count": 172,
   "metadata": {
    "ExecuteTime": {
     "end_time": "2021-03-12T16:36:26.013110Z",
     "start_time": "2021-03-12T16:36:25.928101Z"
    }
   },
   "outputs": [],
   "source": [
    "df=pd.read_csv(\"Assignment Data.csv\")"
   ]
  },
  {
   "cell_type": "code",
   "execution_count": 173,
   "metadata": {
    "ExecuteTime": {
     "end_time": "2021-03-12T16:36:29.828248Z",
     "start_time": "2021-03-12T16:36:29.760770Z"
    }
   },
   "outputs": [
    {
     "data": {
      "text/html": [
       "<div>\n",
       "<style scoped>\n",
       "    .dataframe tbody tr th:only-of-type {\n",
       "        vertical-align: middle;\n",
       "    }\n",
       "\n",
       "    .dataframe tbody tr th {\n",
       "        vertical-align: top;\n",
       "    }\n",
       "\n",
       "    .dataframe thead th {\n",
       "        text-align: right;\n",
       "    }\n",
       "</style>\n",
       "<table border=\"1\" class=\"dataframe\">\n",
       "  <thead>\n",
       "    <tr style=\"text-align: right;\">\n",
       "      <th></th>\n",
       "      <th>AssignmentID</th>\n",
       "      <th>Suburb</th>\n",
       "      <th>State</th>\n",
       "      <th>PostCode</th>\n",
       "      <th>Site</th>\n",
       "      <th>EventStartTimestamp</th>\n",
       "      <th>EventEndTimestamp</th>\n",
       "      <th>ClientID</th>\n",
       "      <th>Valuation</th>\n",
       "      <th>Type</th>\n",
       "      <th>Advisor</th>\n",
       "      <th>CityType</th>\n",
       "    </tr>\n",
       "  </thead>\n",
       "  <tbody>\n",
       "    <tr>\n",
       "      <th>0</th>\n",
       "      <td>1</td>\n",
       "      <td>Potts Point</td>\n",
       "      <td>NSW</td>\n",
       "      <td>2011</td>\n",
       "      <td>Site A</td>\n",
       "      <td>2016-09-07T11:52:00.553</td>\n",
       "      <td>2016-09-07T14:15:00.000</td>\n",
       "      <td>10001</td>\n",
       "      <td>4,653</td>\n",
       "      <td>Type A</td>\n",
       "      <td>Valuer A</td>\n",
       "      <td>Location A</td>\n",
       "    </tr>\n",
       "    <tr>\n",
       "      <th>1</th>\n",
       "      <td>2</td>\n",
       "      <td>Bronte</td>\n",
       "      <td>NSW</td>\n",
       "      <td>2024</td>\n",
       "      <td>Site A</td>\n",
       "      <td>2016-09-12T08:45:58.930</td>\n",
       "      <td>2016-09-12T10:45:00.000</td>\n",
       "      <td>10002</td>\n",
       "      <td>3,325</td>\n",
       "      <td>Type A</td>\n",
       "      <td>Valuer A</td>\n",
       "      <td>Location A</td>\n",
       "    </tr>\n",
       "    <tr>\n",
       "      <th>2</th>\n",
       "      <td>3</td>\n",
       "      <td>Bondi Junction</td>\n",
       "      <td>NSW</td>\n",
       "      <td>2022</td>\n",
       "      <td>Site A</td>\n",
       "      <td>2016-09-14T12:25:50.447</td>\n",
       "      <td>2016-09-14T13:00:00.000</td>\n",
       "      <td>10003</td>\n",
       "      <td>12,299</td>\n",
       "      <td>Type A</td>\n",
       "      <td>Valuer A</td>\n",
       "      <td>Location A</td>\n",
       "    </tr>\n",
       "    <tr>\n",
       "      <th>3</th>\n",
       "      <td>4</td>\n",
       "      <td>Bellevue Hill</td>\n",
       "      <td>NSW</td>\n",
       "      <td>2023</td>\n",
       "      <td>Site A</td>\n",
       "      <td>2016-09-15T07:46:40.273</td>\n",
       "      <td>2016-09-15T08:30:00.000</td>\n",
       "      <td>10002</td>\n",
       "      <td>2,586</td>\n",
       "      <td>Type A</td>\n",
       "      <td>Valuer A</td>\n",
       "      <td>Location A</td>\n",
       "    </tr>\n",
       "    <tr>\n",
       "      <th>4</th>\n",
       "      <td>5</td>\n",
       "      <td>Bellevue Hill</td>\n",
       "      <td>NSW</td>\n",
       "      <td>2023</td>\n",
       "      <td>Site A</td>\n",
       "      <td>2016-09-16T16:16:40.690</td>\n",
       "      <td>2016-09-19T08:00:00.000</td>\n",
       "      <td>10004</td>\n",
       "      <td>2,804</td>\n",
       "      <td>Type A</td>\n",
       "      <td>Valuer A</td>\n",
       "      <td>Location A</td>\n",
       "    </tr>\n",
       "  </tbody>\n",
       "</table>\n",
       "</div>"
      ],
      "text/plain": [
       "   AssignmentID          Suburb State  PostCode    Site  \\\n",
       "0             1     Potts Point   NSW      2011  Site A   \n",
       "1             2          Bronte   NSW      2024  Site A   \n",
       "2             3  Bondi Junction   NSW      2022  Site A   \n",
       "3             4   Bellevue Hill   NSW      2023  Site A   \n",
       "4             5   Bellevue Hill   NSW      2023  Site A   \n",
       "\n",
       "       EventStartTimestamp        EventEndTimestamp  ClientID  Valuation   \\\n",
       "0  2016-09-07T11:52:00.553  2016-09-07T14:15:00.000     10001      4,653    \n",
       "1  2016-09-12T08:45:58.930  2016-09-12T10:45:00.000     10002      3,325    \n",
       "2  2016-09-14T12:25:50.447  2016-09-14T13:00:00.000     10003     12,299    \n",
       "3  2016-09-15T07:46:40.273  2016-09-15T08:30:00.000     10002      2,586    \n",
       "4  2016-09-16T16:16:40.690  2016-09-19T08:00:00.000     10004      2,804    \n",
       "\n",
       "     Type   Advisor    CityType  \n",
       "0  Type A  Valuer A  Location A  \n",
       "1  Type A  Valuer A  Location A  \n",
       "2  Type A  Valuer A  Location A  \n",
       "3  Type A  Valuer A  Location A  \n",
       "4  Type A  Valuer A  Location A  "
      ]
     },
     "execution_count": 173,
     "metadata": {},
     "output_type": "execute_result"
    }
   ],
   "source": [
    "df=pd.read_csv(\"Assignment Data.csv\")\n",
    "df.head()"
   ]
  },
  {
   "cell_type": "code",
   "execution_count": 53,
   "metadata": {
    "ExecuteTime": {
     "end_time": "2021-03-12T05:58:09.317322Z",
     "start_time": "2021-03-12T05:58:09.289431Z"
    },
    "scrolled": true
   },
   "outputs": [
    {
     "name": "stdout",
     "output_type": "stream",
     "text": [
      "<class 'pandas.core.frame.DataFrame'>\n",
      "RangeIndex: 10000 entries, 0 to 9999\n",
      "Data columns (total 12 columns):\n",
      " #   Column               Non-Null Count  Dtype \n",
      "---  ------               --------------  ----- \n",
      " 0   AssignmentID         10000 non-null  int64 \n",
      " 1   Suburb               10000 non-null  object\n",
      " 2   State                10000 non-null  object\n",
      " 3   PostCode             10000 non-null  int64 \n",
      " 4   Site                 10000 non-null  object\n",
      " 5   EventStartTimestamp  10000 non-null  object\n",
      " 6   EventEndTimestamp    10000 non-null  object\n",
      " 7   ClientID             10000 non-null  int64 \n",
      " 8    Valuation           10000 non-null  object\n",
      " 9   Type                 10000 non-null  object\n",
      " 10  Advisor              10000 non-null  object\n",
      " 11  CityType             10000 non-null  object\n",
      "dtypes: int64(3), object(9)\n",
      "memory usage: 937.6+ KB\n"
     ]
    }
   ],
   "source": [
    "df.info()"
   ]
  },
  {
   "cell_type": "code",
   "execution_count": 174,
   "metadata": {
    "ExecuteTime": {
     "end_time": "2021-03-12T18:03:47.642209Z",
     "start_time": "2021-03-12T18:03:47.598237Z"
    }
   },
   "outputs": [
    {
     "data": {
      "text/html": [
       "<div>\n",
       "<style scoped>\n",
       "    .dataframe tbody tr th:only-of-type {\n",
       "        vertical-align: middle;\n",
       "    }\n",
       "\n",
       "    .dataframe tbody tr th {\n",
       "        vertical-align: top;\n",
       "    }\n",
       "\n",
       "    .dataframe thead th {\n",
       "        text-align: right;\n",
       "    }\n",
       "</style>\n",
       "<table border=\"1\" class=\"dataframe\">\n",
       "  <thead>\n",
       "    <tr style=\"text-align: right;\">\n",
       "      <th></th>\n",
       "      <th>AssignmentID</th>\n",
       "      <th>PostCode</th>\n",
       "      <th>ClientID</th>\n",
       "    </tr>\n",
       "  </thead>\n",
       "  <tbody>\n",
       "    <tr>\n",
       "      <th>count</th>\n",
       "      <td>10000.00000</td>\n",
       "      <td>10000.000000</td>\n",
       "      <td>10000.000000</td>\n",
       "    </tr>\n",
       "    <tr>\n",
       "      <th>mean</th>\n",
       "      <td>5000.50000</td>\n",
       "      <td>2732.597000</td>\n",
       "      <td>10016.366800</td>\n",
       "    </tr>\n",
       "    <tr>\n",
       "      <th>std</th>\n",
       "      <td>2886.89568</td>\n",
       "      <td>597.544023</td>\n",
       "      <td>12.034839</td>\n",
       "    </tr>\n",
       "    <tr>\n",
       "      <th>min</th>\n",
       "      <td>1.00000</td>\n",
       "      <td>2000.000000</td>\n",
       "      <td>10001.000000</td>\n",
       "    </tr>\n",
       "    <tr>\n",
       "      <th>25%</th>\n",
       "      <td>2500.75000</td>\n",
       "      <td>2171.000000</td>\n",
       "      <td>10005.000000</td>\n",
       "    </tr>\n",
       "    <tr>\n",
       "      <th>50%</th>\n",
       "      <td>5000.50000</td>\n",
       "      <td>2565.000000</td>\n",
       "      <td>10020.000000</td>\n",
       "    </tr>\n",
       "    <tr>\n",
       "      <th>75%</th>\n",
       "      <td>7500.25000</td>\n",
       "      <td>3156.000000</td>\n",
       "      <td>10024.000000</td>\n",
       "    </tr>\n",
       "    <tr>\n",
       "      <th>max</th>\n",
       "      <td>10000.00000</td>\n",
       "      <td>3978.000000</td>\n",
       "      <td>10078.000000</td>\n",
       "    </tr>\n",
       "  </tbody>\n",
       "</table>\n",
       "</div>"
      ],
      "text/plain": [
       "       AssignmentID      PostCode      ClientID\n",
       "count   10000.00000  10000.000000  10000.000000\n",
       "mean     5000.50000   2732.597000  10016.366800\n",
       "std      2886.89568    597.544023     12.034839\n",
       "min         1.00000   2000.000000  10001.000000\n",
       "25%      2500.75000   2171.000000  10005.000000\n",
       "50%      5000.50000   2565.000000  10020.000000\n",
       "75%      7500.25000   3156.000000  10024.000000\n",
       "max     10000.00000   3978.000000  10078.000000"
      ]
     },
     "execution_count": 174,
     "metadata": {},
     "output_type": "execute_result"
    }
   ],
   "source": [
    "df.describe()"
   ]
  },
  {
   "cell_type": "code",
   "execution_count": 55,
   "metadata": {
    "ExecuteTime": {
     "end_time": "2021-03-12T05:58:30.683490Z",
     "start_time": "2021-03-12T05:58:30.668529Z"
    }
   },
   "outputs": [
    {
     "data": {
      "text/plain": [
       "AssignmentID           0\n",
       "Suburb                 0\n",
       "State                  0\n",
       "PostCode               0\n",
       "Site                   0\n",
       "EventStartTimestamp    0\n",
       "EventEndTimestamp      0\n",
       "ClientID               0\n",
       " Valuation             0\n",
       "Type                   0\n",
       "Advisor                0\n",
       "CityType               0\n",
       "dtype: int64"
      ]
     },
     "execution_count": 55,
     "metadata": {},
     "output_type": "execute_result"
    }
   ],
   "source": [
    "df.isna().sum()\n",
    "#no Missing records"
   ]
  },
  {
   "cell_type": "code",
   "execution_count": 60,
   "metadata": {
    "ExecuteTime": {
     "end_time": "2021-03-12T06:00:54.395713Z",
     "start_time": "2021-03-12T06:00:54.354858Z"
    }
   },
   "outputs": [
    {
     "data": {
      "text/plain": [
       "AssignmentID           10000\n",
       "Suburb                   263\n",
       "State                      2\n",
       "PostCode                 153\n",
       "Site                       2\n",
       "EventStartTimestamp     9941\n",
       "EventEndTimestamp       9809\n",
       "ClientID                  78\n",
       " Valuation              8026\n",
       "Type                       3\n",
       "Advisor                    5\n",
       "CityType                   2\n",
       "dtype: int64"
      ]
     },
     "execution_count": 60,
     "metadata": {},
     "output_type": "execute_result"
    }
   ],
   "source": [
    "df.nunique()"
   ]
  },
  {
   "cell_type": "code",
   "execution_count": 188,
   "metadata": {
    "ExecuteTime": {
     "end_time": "2021-03-12T19:32:30.841099Z",
     "start_time": "2021-03-12T19:32:30.820059Z"
    }
   },
   "outputs": [],
   "source": [
    "df.drop('AssignmentID',inplace=True,axis=1)"
   ]
  },
  {
   "cell_type": "code",
   "execution_count": 63,
   "metadata": {
    "ExecuteTime": {
     "end_time": "2021-03-12T06:02:59.982090Z",
     "start_time": "2021-03-12T06:02:59.960536Z"
    }
   },
   "outputs": [
    {
     "data": {
      "text/plain": [
       "0"
      ]
     },
     "execution_count": 63,
     "metadata": {},
     "output_type": "execute_result"
    }
   ],
   "source": [
    "df.duplicated().sum()"
   ]
  },
  {
   "cell_type": "code",
   "execution_count": 75,
   "metadata": {
    "ExecuteTime": {
     "end_time": "2021-03-12T06:21:57.466245Z",
     "start_time": "2021-03-12T06:21:57.460935Z"
    }
   },
   "outputs": [],
   "source": [
    "from datetime import datetime"
   ]
  },
  {
   "cell_type": "code",
   "execution_count": 181,
   "metadata": {
    "ExecuteTime": {
     "end_time": "2021-03-12T19:06:24.765073Z",
     "start_time": "2021-03-12T19:06:24.723755Z"
    }
   },
   "outputs": [
    {
     "name": "stdout",
     "output_type": "stream",
     "text": [
      "the datatype of EvenStartTimestamp is : datetime64[ns] \n",
      " the datatype of EvenEndTimestamp is : datetime64[ns]\n"
     ]
    }
   ],
   "source": [
    "df['EventStartTimestamp']=pd.to_datetime(df['EventStartTimestamp'])\n",
    "\n",
    "df['EventEndTimestamp']=pd.to_datetime(df['EventEndTimestamp']) \n",
    "print('the datatype of EvenStartTimestamp is :',df['EventStartTimestamp'].dtype,'\\n',\n",
    "     'the datatype of EvenEndTimestamp is :',df['EventEndTimestamp'].dtype)"
   ]
  },
  {
   "cell_type": "code",
   "execution_count": 187,
   "metadata": {
    "ExecuteTime": {
     "end_time": "2021-03-12T19:14:50.077505Z",
     "start_time": "2021-03-12T19:14:50.057677Z"
    }
   },
   "outputs": [
    {
     "data": {
      "text/plain": [
       " -         25\n",
       " 2,761      6\n",
       " 4,210      5\n",
       " 2,865      5\n",
       " 2,770      5\n",
       "Name:  Valuation , dtype: int64"
      ]
     },
     "execution_count": 187,
     "metadata": {},
     "output_type": "execute_result"
    }
   ],
   "source": [
    "df[' Valuation '].value_counts()[:5]"
   ]
  },
  {
   "cell_type": "code",
   "execution_count": 16,
   "metadata": {
    "ExecuteTime": {
     "end_time": "2021-03-12T05:12:26.831262Z",
     "start_time": "2021-03-12T05:12:26.826262Z"
    }
   },
   "outputs": [
    {
     "data": {
      "text/plain": [
       "Index(['AssignmentID', 'Suburb', 'State', 'PostCode', 'Site',\n",
       "       'EventStartTimestamp', 'EventEndTimestamp', 'ClientID', ' Valuation ',\n",
       "       'Type', 'Advisor', 'CityType'],\n",
       "      dtype='object')"
      ]
     },
     "execution_count": 16,
     "metadata": {},
     "output_type": "execute_result"
    }
   ],
   "source": [
    "df.columns"
   ]
  },
  {
   "cell_type": "code",
   "execution_count": 189,
   "metadata": {
    "ExecuteTime": {
     "end_time": "2021-03-12T19:32:44.930213Z",
     "start_time": "2021-03-12T19:32:44.912822Z"
    }
   },
   "outputs": [],
   "source": [
    "df['Valuation']=df[' Valuation '].apply(lambda x: x.replace(\",\",\"\"))"
   ]
  },
  {
   "cell_type": "code",
   "execution_count": 30,
   "metadata": {
    "ExecuteTime": {
     "end_time": "2021-03-12T05:22:41.601918Z",
     "start_time": "2021-03-12T05:22:41.593938Z"
    }
   },
   "outputs": [],
   "source": [
    "#df['Valuation']=df['Valuation'].apply(lambda x: x.replace(\" \",\"\"))"
   ]
  },
  {
   "cell_type": "code",
   "execution_count": 70,
   "metadata": {
    "ExecuteTime": {
     "end_time": "2021-03-12T06:12:32.088187Z",
     "start_time": "2021-03-12T06:12:32.065249Z"
    }
   },
   "outputs": [
    {
     "data": {
      "text/plain": [
       " -            25\n",
       " 2,761         6\n",
       " 4,210         5\n",
       " 2,865         5\n",
       " 2,770         5\n",
       "              ..\n",
       " 1,17,129      1\n",
       " 32,257        1\n",
       " 8,446         1\n",
       " 8,396         1\n",
       " 5,726         1\n",
       "Name:  Valuation , Length: 8026, dtype: int64"
      ]
     },
     "execution_count": 70,
     "metadata": {},
     "output_type": "execute_result"
    }
   ],
   "source": [
    "df[' Valuation '].value_counts()\n",
    "#25 records have blank values"
   ]
  },
  {
   "cell_type": "code",
   "execution_count": 202,
   "metadata": {
    "ExecuteTime": {
     "end_time": "2021-03-12T19:59:00.199404Z",
     "start_time": "2021-03-12T19:59:00.162949Z"
    }
   },
   "outputs": [
    {
     "data": {
      "text/html": [
       "<div>\n",
       "<style scoped>\n",
       "    .dataframe tbody tr th:only-of-type {\n",
       "        vertical-align: middle;\n",
       "    }\n",
       "\n",
       "    .dataframe tbody tr th {\n",
       "        vertical-align: top;\n",
       "    }\n",
       "\n",
       "    .dataframe thead th {\n",
       "        text-align: right;\n",
       "    }\n",
       "</style>\n",
       "<table border=\"1\" class=\"dataframe\">\n",
       "  <thead>\n",
       "    <tr style=\"text-align: right;\">\n",
       "      <th></th>\n",
       "      <th>Suburb</th>\n",
       "      <th>State</th>\n",
       "      <th>PostCode</th>\n",
       "      <th>Site</th>\n",
       "      <th>EventStartTimestamp</th>\n",
       "      <th>EventEndTimestamp</th>\n",
       "      <th>ClientID</th>\n",
       "      <th>Type</th>\n",
       "      <th>Advisor</th>\n",
       "      <th>CityType</th>\n",
       "      <th>Valuation</th>\n",
       "      <th>EventDuration</th>\n",
       "    </tr>\n",
       "  </thead>\n",
       "  <tbody>\n",
       "    <tr>\n",
       "      <th>30</th>\n",
       "      <td>Bondi Beach</td>\n",
       "      <td>NSW</td>\n",
       "      <td>2026</td>\n",
       "      <td>Site A</td>\n",
       "      <td>2017-03-30 11:15:08.447</td>\n",
       "      <td>2017-03-30 12:15:00</td>\n",
       "      <td>10009</td>\n",
       "      <td>Type A</td>\n",
       "      <td>Valuer A</td>\n",
       "      <td>Location A</td>\n",
       "      <td>-</td>\n",
       "      <td>-1 days +23:00:08.447000</td>\n",
       "    </tr>\n",
       "    <tr>\n",
       "      <th>619</th>\n",
       "      <td>Ferntree Gully</td>\n",
       "      <td>Vic</td>\n",
       "      <td>3156</td>\n",
       "      <td>Site B</td>\n",
       "      <td>2017-02-07 12:43:06.497</td>\n",
       "      <td>2017-02-10 15:05:00</td>\n",
       "      <td>10022</td>\n",
       "      <td>Type C</td>\n",
       "      <td>Valuer C</td>\n",
       "      <td>Location A</td>\n",
       "      <td>-</td>\n",
       "      <td>-4 days +21:38:06.497000</td>\n",
       "    </tr>\n",
       "    <tr>\n",
       "      <th>1094</th>\n",
       "      <td>Ferntree Gully</td>\n",
       "      <td>Vic</td>\n",
       "      <td>3156</td>\n",
       "      <td>Site B</td>\n",
       "      <td>2017-09-07 11:00:57.257</td>\n",
       "      <td>2017-09-11 23:51:00</td>\n",
       "      <td>10013</td>\n",
       "      <td>Type C</td>\n",
       "      <td>Valuer C</td>\n",
       "      <td>Location A</td>\n",
       "      <td>-</td>\n",
       "      <td>-5 days +11:09:57.257000</td>\n",
       "    </tr>\n",
       "    <tr>\n",
       "      <th>1464</th>\n",
       "      <td>The Basin</td>\n",
       "      <td>Vic</td>\n",
       "      <td>3154</td>\n",
       "      <td>Site B</td>\n",
       "      <td>2018-02-08 09:24:59.530</td>\n",
       "      <td>2018-02-12 17:33:00</td>\n",
       "      <td>10022</td>\n",
       "      <td>Type C</td>\n",
       "      <td>Valuer C</td>\n",
       "      <td>Location A</td>\n",
       "      <td>-</td>\n",
       "      <td>-5 days +15:51:59.530000</td>\n",
       "    </tr>\n",
       "    <tr>\n",
       "      <th>1546</th>\n",
       "      <td>The Basin</td>\n",
       "      <td>Vic</td>\n",
       "      <td>3154</td>\n",
       "      <td>Site B</td>\n",
       "      <td>2018-03-09 15:21:50.990</td>\n",
       "      <td>2018-03-13 00:17:00</td>\n",
       "      <td>10017</td>\n",
       "      <td>Type C</td>\n",
       "      <td>Valuer C</td>\n",
       "      <td>Location A</td>\n",
       "      <td>-</td>\n",
       "      <td>-4 days +15:04:50.990000</td>\n",
       "    </tr>\n",
       "    <tr>\n",
       "      <th>3733</th>\n",
       "      <td>Edmondson Park</td>\n",
       "      <td>NSW</td>\n",
       "      <td>2174</td>\n",
       "      <td>Site A</td>\n",
       "      <td>2017-01-25 10:20:07.040</td>\n",
       "      <td>2017-01-25 20:21:00</td>\n",
       "      <td>10005</td>\n",
       "      <td>Type C</td>\n",
       "      <td>Valuer D</td>\n",
       "      <td>Location A</td>\n",
       "      <td>-</td>\n",
       "      <td>-1 days +13:59:07.040000</td>\n",
       "    </tr>\n",
       "    <tr>\n",
       "      <th>3734</th>\n",
       "      <td>Edmondson Park</td>\n",
       "      <td>NSW</td>\n",
       "      <td>2174</td>\n",
       "      <td>Site A</td>\n",
       "      <td>2017-01-25 10:49:48.627</td>\n",
       "      <td>2017-01-25 20:14:00</td>\n",
       "      <td>10008</td>\n",
       "      <td>Type C</td>\n",
       "      <td>Valuer D</td>\n",
       "      <td>Location A</td>\n",
       "      <td>-</td>\n",
       "      <td>-1 days +14:35:48.627000</td>\n",
       "    </tr>\n",
       "    <tr>\n",
       "      <th>3738</th>\n",
       "      <td>Edmondson Park</td>\n",
       "      <td>NSW</td>\n",
       "      <td>2174</td>\n",
       "      <td>Site A</td>\n",
       "      <td>2017-01-27 09:37:12.417</td>\n",
       "      <td>2017-01-30 10:51:00</td>\n",
       "      <td>10005</td>\n",
       "      <td>Type C</td>\n",
       "      <td>Valuer D</td>\n",
       "      <td>Location A</td>\n",
       "      <td>-</td>\n",
       "      <td>-4 days +22:46:12.417000</td>\n",
       "    </tr>\n",
       "    <tr>\n",
       "      <th>3748</th>\n",
       "      <td>Edmondson Park</td>\n",
       "      <td>NSW</td>\n",
       "      <td>2174</td>\n",
       "      <td>Site A</td>\n",
       "      <td>2017-01-30 16:59:10.420</td>\n",
       "      <td>2017-01-31 11:19:00</td>\n",
       "      <td>10005</td>\n",
       "      <td>Type C</td>\n",
       "      <td>Valuer D</td>\n",
       "      <td>Location A</td>\n",
       "      <td>-</td>\n",
       "      <td>-1 days +05:40:10.420000</td>\n",
       "    </tr>\n",
       "    <tr>\n",
       "      <th>3758</th>\n",
       "      <td>Edmondson Park</td>\n",
       "      <td>NSW</td>\n",
       "      <td>2174</td>\n",
       "      <td>Site A</td>\n",
       "      <td>2017-02-01 09:51:16.580</td>\n",
       "      <td>2017-02-02 14:01:00</td>\n",
       "      <td>10002</td>\n",
       "      <td>Type C</td>\n",
       "      <td>Valuer D</td>\n",
       "      <td>Location A</td>\n",
       "      <td>-</td>\n",
       "      <td>-2 days +19:50:16.580000</td>\n",
       "    </tr>\n",
       "    <tr>\n",
       "      <th>3767</th>\n",
       "      <td>Edmondson Park</td>\n",
       "      <td>NSW</td>\n",
       "      <td>2174</td>\n",
       "      <td>Site A</td>\n",
       "      <td>2017-02-03 08:53:02.457</td>\n",
       "      <td>2017-02-06 12:12:00</td>\n",
       "      <td>10005</td>\n",
       "      <td>Type C</td>\n",
       "      <td>Valuer D</td>\n",
       "      <td>Location A</td>\n",
       "      <td>-</td>\n",
       "      <td>-4 days +20:41:02.457000</td>\n",
       "    </tr>\n",
       "    <tr>\n",
       "      <th>3768</th>\n",
       "      <td>Edmondson Park</td>\n",
       "      <td>NSW</td>\n",
       "      <td>2174</td>\n",
       "      <td>Site A</td>\n",
       "      <td>2017-02-03 12:42:06.540</td>\n",
       "      <td>2017-02-06 12:09:00</td>\n",
       "      <td>10025</td>\n",
       "      <td>Type C</td>\n",
       "      <td>Valuer D</td>\n",
       "      <td>Location A</td>\n",
       "      <td>-</td>\n",
       "      <td>-3 days +00:33:06.540000</td>\n",
       "    </tr>\n",
       "    <tr>\n",
       "      <th>3772</th>\n",
       "      <td>Edmondson Park</td>\n",
       "      <td>NSW</td>\n",
       "      <td>2174</td>\n",
       "      <td>Site A</td>\n",
       "      <td>2017-02-03 16:12:36.677</td>\n",
       "      <td>2017-02-07 12:11:00</td>\n",
       "      <td>10026</td>\n",
       "      <td>Type C</td>\n",
       "      <td>Valuer D</td>\n",
       "      <td>Location A</td>\n",
       "      <td>-</td>\n",
       "      <td>-4 days +04:01:36.677000</td>\n",
       "    </tr>\n",
       "    <tr>\n",
       "      <th>3783</th>\n",
       "      <td>Edmondson Park</td>\n",
       "      <td>NSW</td>\n",
       "      <td>2174</td>\n",
       "      <td>Site A</td>\n",
       "      <td>2017-02-07 10:07:17.520</td>\n",
       "      <td>2017-02-08 11:39:00</td>\n",
       "      <td>10005</td>\n",
       "      <td>Type C</td>\n",
       "      <td>Valuer D</td>\n",
       "      <td>Location A</td>\n",
       "      <td>-</td>\n",
       "      <td>-2 days +22:28:17.520000</td>\n",
       "    </tr>\n",
       "    <tr>\n",
       "      <th>3790</th>\n",
       "      <td>Carnes Hill</td>\n",
       "      <td>NSW</td>\n",
       "      <td>2171</td>\n",
       "      <td>Site A</td>\n",
       "      <td>2017-02-08 10:58:05.487</td>\n",
       "      <td>2017-02-09 12:12:00</td>\n",
       "      <td>10025</td>\n",
       "      <td>Type C</td>\n",
       "      <td>Valuer D</td>\n",
       "      <td>Location A</td>\n",
       "      <td>-</td>\n",
       "      <td>-2 days +22:46:05.487000</td>\n",
       "    </tr>\n",
       "    <tr>\n",
       "      <th>3828</th>\n",
       "      <td>Edmondson Park</td>\n",
       "      <td>NSW</td>\n",
       "      <td>2174</td>\n",
       "      <td>Site A</td>\n",
       "      <td>2017-02-15 14:26:40.593</td>\n",
       "      <td>2017-02-17 11:59:00</td>\n",
       "      <td>10005</td>\n",
       "      <td>Type C</td>\n",
       "      <td>Valuer D</td>\n",
       "      <td>Location A</td>\n",
       "      <td>-</td>\n",
       "      <td>-2 days +02:27:40.593000</td>\n",
       "    </tr>\n",
       "    <tr>\n",
       "      <th>3834</th>\n",
       "      <td>Wattle Grove</td>\n",
       "      <td>NSW</td>\n",
       "      <td>2173</td>\n",
       "      <td>Site A</td>\n",
       "      <td>2017-02-16 02:52:51.663</td>\n",
       "      <td>2017-02-21 14:17:00</td>\n",
       "      <td>10022</td>\n",
       "      <td>Type C</td>\n",
       "      <td>Valuer D</td>\n",
       "      <td>Location A</td>\n",
       "      <td>-</td>\n",
       "      <td>-6 days +12:35:51.663000</td>\n",
       "    </tr>\n",
       "    <tr>\n",
       "      <th>4074</th>\n",
       "      <td>Moorebank</td>\n",
       "      <td>NSW</td>\n",
       "      <td>2170</td>\n",
       "      <td>Site A</td>\n",
       "      <td>2017-03-24 11:03:29.043</td>\n",
       "      <td>2017-03-29 13:28:00</td>\n",
       "      <td>10003</td>\n",
       "      <td>Type C</td>\n",
       "      <td>Valuer D</td>\n",
       "      <td>Location A</td>\n",
       "      <td>-</td>\n",
       "      <td>-6 days +21:35:29.043000</td>\n",
       "    </tr>\n",
       "    <tr>\n",
       "      <th>4465</th>\n",
       "      <td>Carnes Hill</td>\n",
       "      <td>NSW</td>\n",
       "      <td>2171</td>\n",
       "      <td>Site A</td>\n",
       "      <td>2017-07-06 12:19:26.240</td>\n",
       "      <td>2017-07-10 11:40:00</td>\n",
       "      <td>10025</td>\n",
       "      <td>Type C</td>\n",
       "      <td>Valuer D</td>\n",
       "      <td>Location A</td>\n",
       "      <td>-</td>\n",
       "      <td>-4 days +00:39:26.240000</td>\n",
       "    </tr>\n",
       "    <tr>\n",
       "      <th>4836</th>\n",
       "      <td>HOLSWORTHY</td>\n",
       "      <td>NSW</td>\n",
       "      <td>2173</td>\n",
       "      <td>Site A</td>\n",
       "      <td>2017-10-31 19:06:47.280</td>\n",
       "      <td>2017-11-02 10:35:00</td>\n",
       "      <td>10022</td>\n",
       "      <td>Type C</td>\n",
       "      <td>Valuer D</td>\n",
       "      <td>Location A</td>\n",
       "      <td>-</td>\n",
       "      <td>-2 days +08:31:47.280000</td>\n",
       "    </tr>\n",
       "    <tr>\n",
       "      <th>4898</th>\n",
       "      <td>Edmondson Park</td>\n",
       "      <td>NSW</td>\n",
       "      <td>2174</td>\n",
       "      <td>Site A</td>\n",
       "      <td>2017-11-14 12:01:40.903</td>\n",
       "      <td>2017-11-17 17:33:00</td>\n",
       "      <td>10025</td>\n",
       "      <td>Type C</td>\n",
       "      <td>Valuer D</td>\n",
       "      <td>Location A</td>\n",
       "      <td>-</td>\n",
       "      <td>-4 days +18:28:40.903000</td>\n",
       "    </tr>\n",
       "    <tr>\n",
       "      <th>5090</th>\n",
       "      <td>Moorebank</td>\n",
       "      <td>NSW</td>\n",
       "      <td>2170</td>\n",
       "      <td>Site A</td>\n",
       "      <td>2018-02-08 15:28:00.277</td>\n",
       "      <td>2018-02-09 12:26:00</td>\n",
       "      <td>10043</td>\n",
       "      <td>Type C</td>\n",
       "      <td>Valuer D</td>\n",
       "      <td>Location A</td>\n",
       "      <td>-</td>\n",
       "      <td>-1 days +03:02:00.277000</td>\n",
       "    </tr>\n",
       "    <tr>\n",
       "      <th>8028</th>\n",
       "      <td>South Morang</td>\n",
       "      <td>Vic</td>\n",
       "      <td>3752</td>\n",
       "      <td>Site B</td>\n",
       "      <td>2016-10-11 14:18:28.580</td>\n",
       "      <td>2016-10-13 14:19:00</td>\n",
       "      <td>10022</td>\n",
       "      <td>Type C</td>\n",
       "      <td>Valuer E</td>\n",
       "      <td>Location A</td>\n",
       "      <td>-</td>\n",
       "      <td>-3 days +23:59:28.580000</td>\n",
       "    </tr>\n",
       "    <tr>\n",
       "      <th>8249</th>\n",
       "      <td>Cottles Bridge</td>\n",
       "      <td>Vic</td>\n",
       "      <td>3099</td>\n",
       "      <td>Site B</td>\n",
       "      <td>2017-02-03 16:59:28.060</td>\n",
       "      <td>2017-02-08 15:25:00</td>\n",
       "      <td>10007</td>\n",
       "      <td>Type C</td>\n",
       "      <td>Valuer E</td>\n",
       "      <td>Location A</td>\n",
       "      <td>-</td>\n",
       "      <td>-5 days +01:34:28.060000</td>\n",
       "    </tr>\n",
       "    <tr>\n",
       "      <th>8255</th>\n",
       "      <td>Greensborough</td>\n",
       "      <td>Vic</td>\n",
       "      <td>3088</td>\n",
       "      <td>Site B</td>\n",
       "      <td>2017-02-07 12:09:54.880</td>\n",
       "      <td>2017-02-09 13:50:00</td>\n",
       "      <td>10022</td>\n",
       "      <td>Type C</td>\n",
       "      <td>Valuer E</td>\n",
       "      <td>Location A</td>\n",
       "      <td>-</td>\n",
       "      <td>-3 days +22:19:54.880000</td>\n",
       "    </tr>\n",
       "  </tbody>\n",
       "</table>\n",
       "</div>"
      ],
      "text/plain": [
       "              Suburb State  PostCode    Site     EventStartTimestamp  \\\n",
       "30       Bondi Beach   NSW      2026  Site A 2017-03-30 11:15:08.447   \n",
       "619   Ferntree Gully   Vic      3156  Site B 2017-02-07 12:43:06.497   \n",
       "1094  Ferntree Gully   Vic      3156  Site B 2017-09-07 11:00:57.257   \n",
       "1464       The Basin   Vic      3154  Site B 2018-02-08 09:24:59.530   \n",
       "1546       The Basin   Vic      3154  Site B 2018-03-09 15:21:50.990   \n",
       "3733  Edmondson Park   NSW      2174  Site A 2017-01-25 10:20:07.040   \n",
       "3734  Edmondson Park   NSW      2174  Site A 2017-01-25 10:49:48.627   \n",
       "3738  Edmondson Park   NSW      2174  Site A 2017-01-27 09:37:12.417   \n",
       "3748  Edmondson Park   NSW      2174  Site A 2017-01-30 16:59:10.420   \n",
       "3758  Edmondson Park   NSW      2174  Site A 2017-02-01 09:51:16.580   \n",
       "3767  Edmondson Park   NSW      2174  Site A 2017-02-03 08:53:02.457   \n",
       "3768  Edmondson Park   NSW      2174  Site A 2017-02-03 12:42:06.540   \n",
       "3772  Edmondson Park   NSW      2174  Site A 2017-02-03 16:12:36.677   \n",
       "3783  Edmondson Park   NSW      2174  Site A 2017-02-07 10:07:17.520   \n",
       "3790     Carnes Hill   NSW      2171  Site A 2017-02-08 10:58:05.487   \n",
       "3828  Edmondson Park   NSW      2174  Site A 2017-02-15 14:26:40.593   \n",
       "3834    Wattle Grove   NSW      2173  Site A 2017-02-16 02:52:51.663   \n",
       "4074       Moorebank   NSW      2170  Site A 2017-03-24 11:03:29.043   \n",
       "4465     Carnes Hill   NSW      2171  Site A 2017-07-06 12:19:26.240   \n",
       "4836      HOLSWORTHY   NSW      2173  Site A 2017-10-31 19:06:47.280   \n",
       "4898  Edmondson Park   NSW      2174  Site A 2017-11-14 12:01:40.903   \n",
       "5090       Moorebank   NSW      2170  Site A 2018-02-08 15:28:00.277   \n",
       "8028    South Morang   Vic      3752  Site B 2016-10-11 14:18:28.580   \n",
       "8249  Cottles Bridge   Vic      3099  Site B 2017-02-03 16:59:28.060   \n",
       "8255   Greensborough   Vic      3088  Site B 2017-02-07 12:09:54.880   \n",
       "\n",
       "       EventEndTimestamp  ClientID    Type   Advisor    CityType Valuation  \\\n",
       "30   2017-03-30 12:15:00     10009  Type A  Valuer A  Location A      -      \n",
       "619  2017-02-10 15:05:00     10022  Type C  Valuer C  Location A      -      \n",
       "1094 2017-09-11 23:51:00     10013  Type C  Valuer C  Location A      -      \n",
       "1464 2018-02-12 17:33:00     10022  Type C  Valuer C  Location A      -      \n",
       "1546 2018-03-13 00:17:00     10017  Type C  Valuer C  Location A      -      \n",
       "3733 2017-01-25 20:21:00     10005  Type C  Valuer D  Location A      -      \n",
       "3734 2017-01-25 20:14:00     10008  Type C  Valuer D  Location A      -      \n",
       "3738 2017-01-30 10:51:00     10005  Type C  Valuer D  Location A      -      \n",
       "3748 2017-01-31 11:19:00     10005  Type C  Valuer D  Location A      -      \n",
       "3758 2017-02-02 14:01:00     10002  Type C  Valuer D  Location A      -      \n",
       "3767 2017-02-06 12:12:00     10005  Type C  Valuer D  Location A      -      \n",
       "3768 2017-02-06 12:09:00     10025  Type C  Valuer D  Location A      -      \n",
       "3772 2017-02-07 12:11:00     10026  Type C  Valuer D  Location A      -      \n",
       "3783 2017-02-08 11:39:00     10005  Type C  Valuer D  Location A      -      \n",
       "3790 2017-02-09 12:12:00     10025  Type C  Valuer D  Location A      -      \n",
       "3828 2017-02-17 11:59:00     10005  Type C  Valuer D  Location A      -      \n",
       "3834 2017-02-21 14:17:00     10022  Type C  Valuer D  Location A      -      \n",
       "4074 2017-03-29 13:28:00     10003  Type C  Valuer D  Location A      -      \n",
       "4465 2017-07-10 11:40:00     10025  Type C  Valuer D  Location A      -      \n",
       "4836 2017-11-02 10:35:00     10022  Type C  Valuer D  Location A      -      \n",
       "4898 2017-11-17 17:33:00     10025  Type C  Valuer D  Location A      -      \n",
       "5090 2018-02-09 12:26:00     10043  Type C  Valuer D  Location A      -      \n",
       "8028 2016-10-13 14:19:00     10022  Type C  Valuer E  Location A      -      \n",
       "8249 2017-02-08 15:25:00     10007  Type C  Valuer E  Location A      -      \n",
       "8255 2017-02-09 13:50:00     10022  Type C  Valuer E  Location A      -      \n",
       "\n",
       "                EventDuration  \n",
       "30   -1 days +23:00:08.447000  \n",
       "619  -4 days +21:38:06.497000  \n",
       "1094 -5 days +11:09:57.257000  \n",
       "1464 -5 days +15:51:59.530000  \n",
       "1546 -4 days +15:04:50.990000  \n",
       "3733 -1 days +13:59:07.040000  \n",
       "3734 -1 days +14:35:48.627000  \n",
       "3738 -4 days +22:46:12.417000  \n",
       "3748 -1 days +05:40:10.420000  \n",
       "3758 -2 days +19:50:16.580000  \n",
       "3767 -4 days +20:41:02.457000  \n",
       "3768 -3 days +00:33:06.540000  \n",
       "3772 -4 days +04:01:36.677000  \n",
       "3783 -2 days +22:28:17.520000  \n",
       "3790 -2 days +22:46:05.487000  \n",
       "3828 -2 days +02:27:40.593000  \n",
       "3834 -6 days +12:35:51.663000  \n",
       "4074 -6 days +21:35:29.043000  \n",
       "4465 -4 days +00:39:26.240000  \n",
       "4836 -2 days +08:31:47.280000  \n",
       "4898 -4 days +18:28:40.903000  \n",
       "5090 -1 days +03:02:00.277000  \n",
       "8028 -3 days +23:59:28.580000  \n",
       "8249 -5 days +01:34:28.060000  \n",
       "8255 -3 days +22:19:54.880000  "
      ]
     },
     "execution_count": 202,
     "metadata": {},
     "output_type": "execute_result"
    }
   ],
   "source": [
    "df.loc[df['Valuation']==\" -   \"]"
   ]
  },
  {
   "cell_type": "code",
   "execution_count": 204,
   "metadata": {
    "ExecuteTime": {
     "end_time": "2021-03-12T20:16:20.104799Z",
     "start_time": "2021-03-12T20:16:20.077869Z"
    }
   },
   "outputs": [],
   "source": [
    "df.drop(df[df['Valuation']==\" -   \"].index,inplace=True)"
   ]
  },
  {
   "cell_type": "code",
   "execution_count": 96,
   "metadata": {
    "ExecuteTime": {
     "end_time": "2021-03-12T06:48:51.829402Z",
     "start_time": "2021-03-12T06:48:51.819689Z"
    },
    "scrolled": true
   },
   "outputs": [
    {
     "data": {
      "text/plain": [
       "2761     6\n",
       "944      5\n",
       "1092     5\n",
       "2770     5\n",
       "2865     5\n",
       "        ..\n",
       "4239     1\n",
       "10384    1\n",
       "30866    1\n",
       "2204     1\n",
       "2049     1\n",
       "Name: Valuation, Length: 8025, dtype: int64"
      ]
     },
     "execution_count": 96,
     "metadata": {},
     "output_type": "execute_result"
    }
   ],
   "source": [
    "df.Valuation.value_counts()"
   ]
  },
  {
   "cell_type": "code",
   "execution_count": 205,
   "metadata": {
    "ExecuteTime": {
     "end_time": "2021-03-12T20:16:23.005971Z",
     "start_time": "2021-03-12T20:16:22.965055Z"
    }
   },
   "outputs": [],
   "source": [
    "df['Valuation']=df['Valuation'].astype('int')\n",
    "df['PostCode']=df['PostCode'].astype('str')\n",
    "df['ClientID']=df['ClientID'].astype('str')"
   ]
  },
  {
   "cell_type": "code",
   "execution_count": 201,
   "metadata": {
    "ExecuteTime": {
     "end_time": "2021-03-12T19:58:46.037651Z",
     "start_time": "2021-03-12T19:58:46.004794Z"
    }
   },
   "outputs": [],
   "source": [
    "df.drop(' Valuation ', inplace=True, axis=1)"
   ]
  },
  {
   "cell_type": "code",
   "execution_count": 199,
   "metadata": {
    "ExecuteTime": {
     "end_time": "2021-03-12T19:38:04.105424Z",
     "start_time": "2021-03-12T19:38:04.078580Z"
    }
   },
   "outputs": [],
   "source": []
  },
  {
   "cell_type": "code",
   "execution_count": 95,
   "metadata": {
    "ExecuteTime": {
     "end_time": "2021-03-12T06:46:40.720422Z",
     "start_time": "2021-03-12T06:46:40.686512Z"
    }
   },
   "outputs": [
    {
     "data": {
      "text/html": [
       "<div>\n",
       "<style scoped>\n",
       "    .dataframe tbody tr th:only-of-type {\n",
       "        vertical-align: middle;\n",
       "    }\n",
       "\n",
       "    .dataframe tbody tr th {\n",
       "        vertical-align: top;\n",
       "    }\n",
       "\n",
       "    .dataframe thead th {\n",
       "        text-align: right;\n",
       "    }\n",
       "</style>\n",
       "<table border=\"1\" class=\"dataframe\">\n",
       "  <thead>\n",
       "    <tr style=\"text-align: right;\">\n",
       "      <th></th>\n",
       "      <th>Suburb</th>\n",
       "      <th>State</th>\n",
       "      <th>PostCode</th>\n",
       "      <th>Site</th>\n",
       "      <th>EventStartTimestamp</th>\n",
       "      <th>EventEndTimestamp</th>\n",
       "      <th>ClientID</th>\n",
       "      <th>Type</th>\n",
       "      <th>Advisor</th>\n",
       "      <th>CityType</th>\n",
       "      <th>Valuation</th>\n",
       "      <th>EventDuration</th>\n",
       "    </tr>\n",
       "  </thead>\n",
       "  <tbody>\n",
       "    <tr>\n",
       "      <th>0</th>\n",
       "      <td>Potts Point</td>\n",
       "      <td>NSW</td>\n",
       "      <td>2011</td>\n",
       "      <td>Site A</td>\n",
       "      <td>2016-09-07 11:52:00.553</td>\n",
       "      <td>2016-09-07 14:15:00</td>\n",
       "      <td>10001</td>\n",
       "      <td>Type A</td>\n",
       "      <td>Valuer A</td>\n",
       "      <td>Location A</td>\n",
       "      <td>4653</td>\n",
       "      <td>-1 days +21:37:00.553000</td>\n",
       "    </tr>\n",
       "    <tr>\n",
       "      <th>1</th>\n",
       "      <td>Bronte</td>\n",
       "      <td>NSW</td>\n",
       "      <td>2024</td>\n",
       "      <td>Site A</td>\n",
       "      <td>2016-09-12 08:45:58.930</td>\n",
       "      <td>2016-09-12 10:45:00</td>\n",
       "      <td>10002</td>\n",
       "      <td>Type A</td>\n",
       "      <td>Valuer A</td>\n",
       "      <td>Location A</td>\n",
       "      <td>3325</td>\n",
       "      <td>-1 days +22:00:58.930000</td>\n",
       "    </tr>\n",
       "    <tr>\n",
       "      <th>2</th>\n",
       "      <td>Bondi Junction</td>\n",
       "      <td>NSW</td>\n",
       "      <td>2022</td>\n",
       "      <td>Site A</td>\n",
       "      <td>2016-09-14 12:25:50.447</td>\n",
       "      <td>2016-09-14 13:00:00</td>\n",
       "      <td>10003</td>\n",
       "      <td>Type A</td>\n",
       "      <td>Valuer A</td>\n",
       "      <td>Location A</td>\n",
       "      <td>12299</td>\n",
       "      <td>-1 days +23:25:50.447000</td>\n",
       "    </tr>\n",
       "    <tr>\n",
       "      <th>3</th>\n",
       "      <td>Bellevue Hill</td>\n",
       "      <td>NSW</td>\n",
       "      <td>2023</td>\n",
       "      <td>Site A</td>\n",
       "      <td>2016-09-15 07:46:40.273</td>\n",
       "      <td>2016-09-15 08:30:00</td>\n",
       "      <td>10002</td>\n",
       "      <td>Type A</td>\n",
       "      <td>Valuer A</td>\n",
       "      <td>Location A</td>\n",
       "      <td>2586</td>\n",
       "      <td>-1 days +23:16:40.273000</td>\n",
       "    </tr>\n",
       "    <tr>\n",
       "      <th>4</th>\n",
       "      <td>Bellevue Hill</td>\n",
       "      <td>NSW</td>\n",
       "      <td>2023</td>\n",
       "      <td>Site A</td>\n",
       "      <td>2016-09-16 16:16:40.690</td>\n",
       "      <td>2016-09-19 08:00:00</td>\n",
       "      <td>10004</td>\n",
       "      <td>Type A</td>\n",
       "      <td>Valuer A</td>\n",
       "      <td>Location A</td>\n",
       "      <td>2804</td>\n",
       "      <td>-3 days +08:16:40.690000</td>\n",
       "    </tr>\n",
       "  </tbody>\n",
       "</table>\n",
       "</div>"
      ],
      "text/plain": [
       "           Suburb State PostCode    Site     EventStartTimestamp  \\\n",
       "0     Potts Point   NSW     2011  Site A 2016-09-07 11:52:00.553   \n",
       "1          Bronte   NSW     2024  Site A 2016-09-12 08:45:58.930   \n",
       "2  Bondi Junction   NSW     2022  Site A 2016-09-14 12:25:50.447   \n",
       "3   Bellevue Hill   NSW     2023  Site A 2016-09-15 07:46:40.273   \n",
       "4   Bellevue Hill   NSW     2023  Site A 2016-09-16 16:16:40.690   \n",
       "\n",
       "    EventEndTimestamp ClientID    Type   Advisor    CityType  Valuation  \\\n",
       "0 2016-09-07 14:15:00    10001  Type A  Valuer A  Location A       4653   \n",
       "1 2016-09-12 10:45:00    10002  Type A  Valuer A  Location A       3325   \n",
       "2 2016-09-14 13:00:00    10003  Type A  Valuer A  Location A      12299   \n",
       "3 2016-09-15 08:30:00    10002  Type A  Valuer A  Location A       2586   \n",
       "4 2016-09-19 08:00:00    10004  Type A  Valuer A  Location A       2804   \n",
       "\n",
       "             EventDuration  \n",
       "0 -1 days +21:37:00.553000  \n",
       "1 -1 days +22:00:58.930000  \n",
       "2 -1 days +23:25:50.447000  \n",
       "3 -1 days +23:16:40.273000  \n",
       "4 -3 days +08:16:40.690000  "
      ]
     },
     "execution_count": 95,
     "metadata": {},
     "output_type": "execute_result"
    }
   ],
   "source": [
    "df['EventDuration']=df['EventStartTimestamp']-df['EventEndTimestamp']\n",
    "df.head()"
   ]
  },
  {
   "cell_type": "code",
   "execution_count": 214,
   "metadata": {
    "ExecuteTime": {
     "end_time": "2021-03-12T20:27:27.592108Z",
     "start_time": "2021-03-12T20:27:27.394519Z"
    }
   },
   "outputs": [
    {
     "data": {
      "text/plain": [
       "<AxesSubplot:xlabel='State', ylabel='count'>"
      ]
     },
     "execution_count": 214,
     "metadata": {},
     "output_type": "execute_result"
    },
    {
     "data": {
      "image/png": "[encoded data removed]",
      "text/plain": [
       "<Figure size 432x288 with 1 Axes>"
      ]
     },
     "metadata": {},
     "output_type": "display_data"
    }
   ],
   "source": [
    "sns.countplot(x='State',data=df)"
   ]
  },
  {
   "cell_type": "code",
   "execution_count": 218,
   "metadata": {
    "ExecuteTime": {
     "end_time": "2021-03-12T21:17:53.522889Z",
     "start_time": "2021-03-12T21:17:53.421163Z"
    }
   },
   "outputs": [
    {
     "data": {
      "text/plain": [
       "<AxesSubplot:xlabel='State', ylabel='Valuation'>"
      ]
     },
     "execution_count": 218,
     "metadata": {},
     "output_type": "execute_result"
    },
    {
     "data": {
      "image/png": "[encoded data removed]",
      "text/plain": [
       "<Figure size 432x288 with 1 Axes>"
      ]
     },
     "metadata": {},
     "output_type": "display_data"
    }
   ],
   "source": [
    "sns.barplot(x='State',y='Valuation',data=df,ci=None)"
   ]
  },
  {
   "cell_type": "code",
   "execution_count": 99,
   "metadata": {
    "ExecuteTime": {
     "end_time": "2021-03-12T07:03:53.110630Z",
     "start_time": "2021-03-12T07:03:52.847745Z"
    },
    "scrolled": true
   },
   "outputs": [
    {
     "data": {
      "text/plain": [
       "<AxesSubplot:xlabel='Site', ylabel='count'>"
      ]
     },
     "execution_count": 99,
     "metadata": {},
     "output_type": "execute_result"
    },
    {
     "data": {
      "image/png": "[encoded data removed]",
      "text/plain": [
       "<Figure size 432x288 with 1 Axes>"
      ]
     },
     "metadata": {},
     "output_type": "display_data"
    }
   ],
   "source": [
    "sns.countplot(x='Site',data=df)"
   ]
  },
  {
   "cell_type": "code",
   "execution_count": 217,
   "metadata": {
    "ExecuteTime": {
     "end_time": "2021-03-12T21:17:46.894201Z",
     "start_time": "2021-03-12T21:17:46.793434Z"
    }
   },
   "outputs": [
    {
     "data": {
      "text/plain": [
       "<AxesSubplot:xlabel='Site', ylabel='Valuation'>"
      ]
     },
     "execution_count": 217,
     "metadata": {},
     "output_type": "execute_result"
    },
    {
     "data": {
      "image/png": "[encoded data removed]",
      "text/plain": [
       "<Figure size 432x288 with 1 Axes>"
      ]
     },
     "metadata": {},
     "output_type": "display_data"
    }
   ],
   "source": [
    "sns.barplot(x='Site',y='Valuation',data=df,ci=None)"
   ]
  },
  {
   "cell_type": "code",
   "execution_count": 100,
   "metadata": {
    "ExecuteTime": {
     "end_time": "2021-03-12T07:04:11.509596Z",
     "start_time": "2021-03-12T07:04:11.185646Z"
    }
   },
   "outputs": [
    {
     "data": {
      "text/plain": [
       "<AxesSubplot:xlabel='Type', ylabel='count'>"
      ]
     },
     "execution_count": 100,
     "metadata": {},
     "output_type": "execute_result"
    },
    {
     "data": {
      "image/png": "[encoded data removed]",
      "text/plain": [
       "<Figure size 432x288 with 1 Axes>"
      ]
     },
     "metadata": {},
     "output_type": "display_data"
    }
   ],
   "source": [
    "sns.countplot(x='Type',data=df)"
   ]
  },
  {
   "cell_type": "code",
   "execution_count": 219,
   "metadata": {
    "ExecuteTime": {
     "end_time": "2021-03-12T21:20:51.558167Z",
     "start_time": "2021-03-12T21:20:51.448414Z"
    }
   },
   "outputs": [
    {
     "data": {
      "text/plain": [
       "<AxesSubplot:xlabel='Type', ylabel='Valuation'>"
      ]
     },
     "execution_count": 219,
     "metadata": {},
     "output_type": "execute_result"
    },
    {
     "data": {
      "image/png": "[encoded data removed]",
      "text/plain": [
       "<Figure size 432x288 with 1 Axes>"
      ]
     },
     "metadata": {},
     "output_type": "display_data"
    }
   ],
   "source": [
    "sns.barplot(x='Type',y='Valuation',data=df,ci=None)"
   ]
  },
  {
   "cell_type": "code",
   "execution_count": 101,
   "metadata": {
    "ExecuteTime": {
     "end_time": "2021-03-12T07:04:33.653419Z",
     "start_time": "2021-03-12T07:04:33.290916Z"
    },
    "scrolled": true
   },
   "outputs": [
    {
     "data": {
      "text/plain": [
       "<AxesSubplot:xlabel='Advisor', ylabel='count'>"
      ]
     },
     "execution_count": 101,
     "metadata": {},
     "output_type": "execute_result"
    },
    {
     "data": {
      "image/png": "[encoded data removed]",
      "text/plain": [
       "<Figure size 432x288 with 1 Axes>"
      ]
     },
     "metadata": {},
     "output_type": "display_data"
    }
   ],
   "source": [
    "sns.countplot(x='Advisor',data=df)"
   ]
  },
  {
   "cell_type": "code",
   "execution_count": 102,
   "metadata": {
    "ExecuteTime": {
     "end_time": "2021-03-12T07:05:25.416409Z",
     "start_time": "2021-03-12T07:05:24.826343Z"
    },
    "scrolled": false
   },
   "outputs": [
    {
     "data": {
      "text/plain": [
       "<AxesSubplot:xlabel='CityType', ylabel='count'>"
      ]
     },
     "execution_count": 102,
     "metadata": {},
     "output_type": "execute_result"
    },
    {
     "data": {
      "image/png": "[encoded data removed]",
      "text/plain": [
       "<Figure size 432x288 with 1 Axes>"
      ]
     },
     "metadata": {},
     "output_type": "display_data"
    }
   ],
   "source": [
    "sns.countplot(x='CityType',data=df)"
   ]
  },
  {
   "cell_type": "code",
   "execution_count": 220,
   "metadata": {
    "ExecuteTime": {
     "end_time": "2021-03-12T21:26:04.743838Z",
     "start_time": "2021-03-12T21:26:04.635119Z"
    }
   },
   "outputs": [
    {
     "data": {
      "text/plain": [
       "<AxesSubplot:xlabel='CityType', ylabel='Valuation'>"
      ]
     },
     "execution_count": 220,
     "metadata": {},
     "output_type": "execute_result"
    },
    {
     "data": {
      "image/png": "[encoded data removed]",
      "text/plain": [
       "<Figure size 432x288 with 1 Axes>"
      ]
     },
     "metadata": {},
     "output_type": "display_data"
    }
   ],
   "source": [
    "sns.barplot(x='CityType',y='Valuation',data=df,ci=None)"
   ]
  },
  {
   "cell_type": "code",
   "execution_count": 110,
   "metadata": {
    "ExecuteTime": {
     "end_time": "2021-03-12T07:08:42.278296Z",
     "start_time": "2021-03-12T07:08:41.737736Z"
    }
   },
   "outputs": [
    {
     "data": {
      "text/plain": [
       "<AxesSubplot:>"
      ]
     },
     "execution_count": 110,
     "metadata": {},
     "output_type": "execute_result"
    },
    {
     "data": {
      "image/png": "[encoded data removed]",
      "text/plain": [
       "<Figure size 432x288 with 1 Axes>"
      ]
     },
     "metadata": {},
     "output_type": "display_data"
    }
   ],
   "source": [
    "df.EventDuration.plot()"
   ]
  },
  {
   "cell_type": "code",
   "execution_count": 112,
   "metadata": {
    "ExecuteTime": {
     "end_time": "2021-03-12T07:14:41.512207Z",
     "start_time": "2021-03-12T07:14:41.488271Z"
    }
   },
   "outputs": [
    {
     "data": {
      "text/plain": [
       "count                           9975\n",
       "mean     -4 days +09:00:51.358816543\n",
       "std        3 days 16:52:48.790068068\n",
       "min        -49 days +22:38:23.173000\n",
       "25%         -5 days +03:27:36.700000\n",
       "50%         -3 days +05:29:10.820000\n",
       "75%         -2 days +20:52:34.656500\n",
       "max           0 days 00:19:06.910000\n",
       "Name: EventDuration, dtype: object"
      ]
     },
     "execution_count": 112,
     "metadata": {},
     "output_type": "execute_result"
    }
   ],
   "source": [
    "df['EventDuration'].describe()\n",
    "#max time tool to evaluate a property is 49 days\n",
    "# few property evluations have been done on the same day \n",
    "# on a avg, it takes 4 days to evalue a property finally"
   ]
  },
  {
   "cell_type": "code",
   "execution_count": 233,
   "metadata": {
    "ExecuteTime": {
     "end_time": "2021-03-12T21:53:52.143181Z",
     "start_time": "2021-03-12T21:53:52.127618Z"
    }
   },
   "outputs": [],
   "source": [
    "df['EventDuration']=df['EventDuration'].astype('timedelta64[D]')\n",
    "df['EventDuration']=abs(df['EventDuration']).astype('int')"
   ]
  },
  {
   "cell_type": "code",
   "execution_count": 117,
   "metadata": {
    "ExecuteTime": {
     "end_time": "2021-03-12T07:32:55.278674Z",
     "start_time": "2021-03-12T07:32:55.268552Z"
    }
   },
   "outputs": [],
   "source": []
  },
  {
   "cell_type": "code",
   "execution_count": 135,
   "metadata": {
    "ExecuteTime": {
     "end_time": "2021-03-12T07:49:32.332056Z",
     "start_time": "2021-03-12T07:49:31.000989Z"
    }
   },
   "outputs": [
    {
     "data": {
      "text/plain": [
       "<AxesSubplot:xlabel='EventDuration', ylabel='count'>"
      ]
     },
     "execution_count": 135,
     "metadata": {},
     "output_type": "execute_result"
    },
    {
     "data": {
      "image/png": "[encoded data removed]",
      "text/plain": [
       "<Figure size 720x360 with 1 Axes>"
      ]
     },
     "metadata": {},
     "output_type": "display_data"
    }
   ],
   "source": [
    "fig, ax = plt.subplots(figsize=(10,5))\n",
    "sns.countplot(x='EventDuration',data=df)"
   ]
  },
  {
   "cell_type": "code",
   "execution_count": 155,
   "metadata": {
    "ExecuteTime": {
     "end_time": "2021-03-12T08:19:24.445908Z",
     "start_time": "2021-03-12T08:19:23.314649Z"
    }
   },
   "outputs": [
    {
     "data": {
      "text/plain": [
       "<AxesSubplot:xlabel='EventDuration', ylabel='Valuation'>"
      ]
     },
     "execution_count": 155,
     "metadata": {},
     "output_type": "execute_result"
    },
    {
     "data": {
      "image/png": "[encoded data removed]",
      "text/plain": [
       "<Figure size 1440x360 with 1 Axes>"
      ]
     },
     "metadata": {},
     "output_type": "display_data"
    }
   ],
   "source": [
    "fig, ax = plt.subplots(figsize=(20,5))\n",
    "sns.barplot(x='EventDuration',y='Valuation',data=df,ci = None)"
   ]
  },
  {
   "cell_type": "code",
   "execution_count": 167,
   "metadata": {
    "ExecuteTime": {
     "end_time": "2021-03-12T12:22:29.053459Z",
     "start_time": "2021-03-12T12:22:29.045486Z"
    }
   },
   "outputs": [],
   "source": [
    "df['Year']=df['EventEndTimestamp'].dt.year\n",
    "df['Month']=df['EventEndTimestamp'].dt.month"
   ]
  },
  {
   "cell_type": "code",
   "execution_count": 168,
   "metadata": {
    "ExecuteTime": {
     "end_time": "2021-03-12T12:22:31.995982Z",
     "start_time": "2021-03-12T12:22:31.739375Z"
    }
   },
   "outputs": [
    {
     "data": {
      "text/plain": [
       "<AxesSubplot:xlabel='Year', ylabel='count'>"
      ]
     },
     "execution_count": 168,
     "metadata": {},
     "output_type": "execute_result"
    },
    {
     "data": {
      "image/png": "[encoded data removed]",
      "text/plain": [
       "<Figure size 504x216 with 1 Axes>"
      ]
     },
     "metadata": {},
     "output_type": "display_data"
    }
   ],
   "source": [
    "fig, ax = plt.subplots(figsize=(7,3))\n",
    "sns.countplot(x='Year',data=df)"
   ]
  },
  {
   "cell_type": "code",
   "execution_count": 169,
   "metadata": {
    "ExecuteTime": {
     "end_time": "2021-03-12T12:22:36.014909Z",
     "start_time": "2021-03-12T12:22:35.686487Z"
    }
   },
   "outputs": [
    {
     "data": {
      "text/plain": [
       "<AxesSubplot:xlabel='Year', ylabel='Valuation'>"
      ]
     },
     "execution_count": 169,
     "metadata": {},
     "output_type": "execute_result"
    },
    {
     "data": {
      "image/png": "[encoded data removed]",
      "text/plain": [
       "<Figure size 504x216 with 1 Axes>"
      ]
     },
     "metadata": {},
     "output_type": "display_data"
    }
   ],
   "source": [
    "fig, ax = plt.subplots(figsize=(7,3))\n",
    "sns.barplot(x='Year',y='Valuation',data=df,ci = None)"
   ]
  },
  {
   "cell_type": "code",
   "execution_count": 260,
   "metadata": {
    "ExecuteTime": {
     "end_time": "2021-03-12T22:24:37.171441Z",
     "start_time": "2021-03-12T22:24:36.900371Z"
    }
   },
   "outputs": [
    {
     "data": {
      "text/plain": [
       "<AxesSubplot:xlabel='EventDuration', ylabel='Advisor'>"
      ]
     },
     "execution_count": 260,
     "metadata": {},
     "output_type": "execute_result"
    },
    {
     "data": {
      "image/png": "[encoded data removed]",
      "text/plain": [
       "<Figure size 720x360 with 1 Axes>"
      ]
     },
     "metadata": {},
     "output_type": "display_data"
    }
   ],
   "source": [
    "fig, ax = plt.subplots(figsize=(10,5))\n",
    "from numpy import mean\n",
    "sns.barplot(x='EventDuration',y='Advisor',data=df,ci = None,estimator=mean)"
   ]
  },
  {
   "cell_type": "code",
   "execution_count": 158,
   "metadata": {
    "ExecuteTime": {
     "end_time": "2021-03-12T08:19:57.307911Z",
     "start_time": "2021-03-12T08:19:56.886162Z"
    }
   },
   "outputs": [
    {
     "data": {
      "text/plain": [
       "<AxesSubplot:xlabel='Valuation', ylabel='Advisor'>"
      ]
     },
     "execution_count": 158,
     "metadata": {},
     "output_type": "execute_result"
    },
    {
     "data": {
      "image/png": "[encoded data removed]",
      "text/plain": [
       "<Figure size 720x360 with 1 Axes>"
      ]
     },
     "metadata": {},
     "output_type": "display_data"
    }
   ],
   "source": [
    "fig, ax = plt.subplots(figsize=(10,5))\n",
    "sns.barplot(x='Valuation',y='Advisor',data=df,ci = None)"
   ]
  },
  {
   "cell_type": "code",
   "execution_count": 154,
   "metadata": {
    "ExecuteTime": {
     "end_time": "2021-03-12T08:08:17.917619Z",
     "start_time": "2021-03-12T08:08:17.512308Z"
    }
   },
   "outputs": [
    {
     "data": {
      "text/plain": [
       "<AxesSubplot:xlabel='Advisor', ylabel='count'>"
      ]
     },
     "execution_count": 154,
     "metadata": {},
     "output_type": "execute_result"
    },
    {
     "data": {
      "image/png": "[encoded data removed]",
      "text/plain": [
       "<Figure size 720x360 with 1 Axes>"
      ]
     },
     "metadata": {},
     "output_type": "display_data"
    }
   ],
   "source": [
    "fig, ax = plt.subplots(figsize=(10,5))\n",
    "sns.countplot(x='Advisor',data=df)"
   ]
  },
  {
   "cell_type": "code",
   "execution_count": 170,
   "metadata": {
    "ExecuteTime": {
     "end_time": "2021-03-12T12:22:45.220220Z",
     "start_time": "2021-03-12T12:22:44.749163Z"
    }
   },
   "outputs": [
    {
     "data": {
      "text/plain": [
       "<AxesSubplot:xlabel='Month', ylabel='count'>"
      ]
     },
     "execution_count": 170,
     "metadata": {},
     "output_type": "execute_result"
    },
    {
     "data": {
      "image/png": "[encoded data removed]",
      "text/plain": [
       "<Figure size 504x216 with 1 Axes>"
      ]
     },
     "metadata": {},
     "output_type": "display_data"
    }
   ],
   "source": [
    "fig, ax = plt.subplots(figsize=(7,3))\n",
    "sns.countplot(x='Month',data=df)"
   ]
  },
  {
   "cell_type": "code",
   "execution_count": 171,
   "metadata": {
    "ExecuteTime": {
     "end_time": "2021-03-12T12:22:48.514351Z",
     "start_time": "2021-03-12T12:22:48.019652Z"
    }
   },
   "outputs": [
    {
     "data": {
      "text/plain": [
       "<AxesSubplot:xlabel='Month', ylabel='Valuation'>"
      ]
     },
     "execution_count": 171,
     "metadata": {},
     "output_type": "execute_result"
    },
    {
     "data": {
      "image/png": "[encoded data removed]",
      "text/plain": [
       "<Figure size 504x216 with 1 Axes>"
      ]
     },
     "metadata": {},
     "output_type": "display_data"
    }
   ],
   "source": [
    "fig, ax = plt.subplots(figsize=(7,3))\n",
    "sns.barplot(x='Month',y='Valuation',data=df,ci = None)"
   ]
  },
  {
   "cell_type": "code",
   "execution_count": 232,
   "metadata": {
    "ExecuteTime": {
     "end_time": "2021-03-12T21:52:59.786018Z",
     "start_time": "2021-03-12T21:52:59.758214Z"
    }
   },
   "outputs": [
    {
     "data": {
      "text/html": [
       "<div>\n",
       "<style scoped>\n",
       "    .dataframe tbody tr th:only-of-type {\n",
       "        vertical-align: middle;\n",
       "    }\n",
       "\n",
       "    .dataframe tbody tr th {\n",
       "        vertical-align: top;\n",
       "    }\n",
       "\n",
       "    .dataframe thead th {\n",
       "        text-align: right;\n",
       "    }\n",
       "</style>\n",
       "<table border=\"1\" class=\"dataframe\">\n",
       "  <thead>\n",
       "    <tr style=\"text-align: right;\">\n",
       "      <th></th>\n",
       "      <th>Valuation</th>\n",
       "    </tr>\n",
       "    <tr>\n",
       "      <th>Advisor</th>\n",
       "      <th></th>\n",
       "    </tr>\n",
       "  </thead>\n",
       "  <tbody>\n",
       "    <tr>\n",
       "      <th>Valuer A</th>\n",
       "      <td>4773558</td>\n",
       "    </tr>\n",
       "    <tr>\n",
       "      <th>Valuer B</th>\n",
       "      <td>257782</td>\n",
       "    </tr>\n",
       "    <tr>\n",
       "      <th>Valuer C</th>\n",
       "      <td>50408826</td>\n",
       "    </tr>\n",
       "    <tr>\n",
       "      <th>Valuer D</th>\n",
       "      <td>110986270</td>\n",
       "    </tr>\n",
       "    <tr>\n",
       "      <th>Valuer E</th>\n",
       "      <td>50153412</td>\n",
       "    </tr>\n",
       "  </tbody>\n",
       "</table>\n",
       "</div>"
      ],
      "text/plain": [
       "          Valuation\n",
       "Advisor            \n",
       "Valuer A    4773558\n",
       "Valuer B     257782\n",
       "Valuer C   50408826\n",
       "Valuer D  110986270\n",
       "Valuer E   50153412"
      ]
     },
     "execution_count": 232,
     "metadata": {},
     "output_type": "execute_result"
    }
   ],
   "source": [
    "df.groupby('Advisor').sum()"
   ]
  },
  {
   "cell_type": "code",
   "execution_count": 263,
   "metadata": {
    "ExecuteTime": {
     "end_time": "2021-03-12T22:26:05.939984Z",
     "start_time": "2021-03-12T22:26:05.921341Z"
    }
   },
   "outputs": [
    {
     "data": {
      "text/plain": [
       "Advisor\n",
       "Valuer A    1.179894\n",
       "Valuer D    3.459892\n",
       "Valuer B    3.636364\n",
       "Name: EventDuration, dtype: float64"
      ]
     },
     "execution_count": 263,
     "metadata": {},
     "output_type": "execute_result"
    }
   ],
   "source": [
    "df.groupby('Advisor')['EventDuration'].mean().nsmallest()[:3]"
   ]
  },
  {
   "cell_type": "code",
   "execution_count": 249,
   "metadata": {
    "ExecuteTime": {
     "end_time": "2021-03-12T22:05:37.539704Z",
     "start_time": "2021-03-12T22:05:37.524880Z"
    }
   },
   "outputs": [
    {
     "data": {
      "text/plain": [
       "Advisor\n",
       "Valuer D    4812\n",
       "Valuer C    2897\n",
       "Valuer E    2066\n",
       "Name: Advisor, dtype: int64"
      ]
     },
     "execution_count": 249,
     "metadata": {},
     "output_type": "execute_result"
    }
   ],
   "source": [
    "df.groupby('Advisor')['Advisor'].count().nlargest()[:3]"
   ]
  },
  {
   "cell_type": "code",
   "execution_count": 253,
   "metadata": {
    "ExecuteTime": {
     "end_time": "2021-03-12T22:18:46.904104Z",
     "start_time": "2021-03-12T22:18:46.887654Z"
    }
   },
   "outputs": [
    {
     "data": {
      "text/plain": [
       "Advisor\n",
       "Valuer D    110986270\n",
       "Valuer C     50408826\n",
       "Valuer E     50153412\n",
       "Name: Valuation, dtype: int32"
      ]
     },
     "execution_count": 253,
     "metadata": {},
     "output_type": "execute_result"
    }
   ],
   "source": [
    "df.groupby('Advisor')['Valuation'].sum().nlargest()[:3]"
   ]
  },
  {
   "cell_type": "code",
   "execution_count": 259,
   "metadata": {
    "ExecuteTime": {
     "end_time": "2021-03-12T22:21:29.745386Z",
     "start_time": "2021-03-12T22:21:29.496533Z"
    }
   },
   "outputs": [
    {
     "data": {
      "text/plain": [
       "<AxesSubplot:xlabel='Advisor', ylabel='Valuation'>"
      ]
     },
     "execution_count": 259,
     "metadata": {},
     "output_type": "execute_result"
    },
    {
     "data": {
      "image/png": "[encoded data removed]",
      "text/plain": [
       "<Figure size 504x216 with 1 Axes>"
      ]
     },
     "metadata": {},
     "output_type": "display_data"
    }
   ],
   "source": [
    "fig, ax = plt.subplots(figsize=(7,3))\n",
    "sns.barplot(x='Advisor',y='Valuation',data=df,ci = None,estimator=sum)"
   ]
  },
  {
   "cell_type": "code",
   "execution_count": 267,
   "metadata": {
    "ExecuteTime": {
     "end_time": "2021-03-12T22:38:47.039181Z",
     "start_time": "2021-03-12T22:38:47.029861Z"
    }
   },
   "outputs": [
    {
     "data": {
      "text/plain": [
       "40    1\n",
       "31    1\n",
       "48    1\n",
       "49    1\n",
       "35    1\n",
       "36    1\n",
       "0     1\n",
       "44    2\n",
       "33    2\n",
       "34    3\n",
       "Name: EventDuration, dtype: int64"
      ]
     },
     "execution_count": 267,
     "metadata": {},
     "output_type": "execute_result"
    }
   ],
   "source": [
    "df.EventDuration.value_counts().nsmallest(10)"
   ]
  },
  {
   "cell_type": "code",
   "execution_count": null,
   "metadata": {},
   "outputs": [],
   "source": []
  }
 ],
 "metadata": {
  "kernelspec": {
   "display_name": "Python 3",
   "language": "python",
   "name": "python3"
  },
  "language_info": {
   "codemirror_mode": {
    "name": "ipython",
    "version": 3
   },
   "file_extension": ".py",
   "mimetype": "text/x-python",
   "name": "python",
   "nbconvert_exporter": "python",
   "pygments_lexer": "ipython3",
   "version": "3.7.9"
  },
  "varInspector": {
   "cols": {
    "lenName": 16,
    "lenType": 16,
    "lenVar": 40
   },
   "kernels_config": {
    "python": {
     "delete_cmd_postfix": "",
     "delete_cmd_prefix": "del ",
     "library": "var_list.py",
     "varRefreshCmd": "print(var_dic_list())"
    },
    "r": {
     "delete_cmd_postfix": ") ",
     "delete_cmd_prefix": "rm(",
     "library": "var_list.r",
     "varRefreshCmd": "cat(var_dic_list()) "
    }
   },
   "position": {
    "height": "144.667px",
    "left": "889px",
    "right": "20px",
    "top": "110px",
    "width": "350px"
   },
   "types_to_exclude": [
    "module",
    "function",
    "builtin_function_or_method",
    "instance",
    "_Feature"
   ],
   "window_display": false
  }
 },
 "nbformat": 4,
 "nbformat_minor": 4
}
